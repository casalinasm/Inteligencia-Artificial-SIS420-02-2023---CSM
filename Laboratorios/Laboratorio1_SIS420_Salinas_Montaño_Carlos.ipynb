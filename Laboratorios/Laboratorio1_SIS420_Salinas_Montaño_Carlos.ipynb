{
  "nbformat": 4,
  "nbformat_minor": 0,
  "metadata": {
    "colab": {
      "provenance": []
    },
    "kernelspec": {
      "name": "python3",
      "display_name": "Python 3"
    },
    "language_info": {
      "name": "python"
    }
  },
  "cells": [
    {
      "cell_type": "code",
      "execution_count": 1,
      "metadata": {
        "id": "qUxgZvq33-ID"
      },
      "outputs": [],
      "source": [
        "# utilizado para manejos de directorios y rutas\n",
        "import os\n",
        "\n",
        "# Computacion vectorial y cientifica para python\n",
        "import numpy as np\n",
        "\n",
        "# Librerias para graficación (trazado de gráficos)\n",
        "from matplotlib import pyplot\n",
        "from mpl_toolkits.mplot3d import Axes3D  # Necesario para graficar superficies 3D\n",
        "\n",
        "# llama a matplotlib a embeber graficas dentro de los cuadernillos\n",
        "%matplotlib inline"
      ]
    },
    {
      "cell_type": "code",
      "source": [
        "import pandas as pd\n",
        "from sklearn.preprocessing import LabelEncoder\n",
        "from datetime import datetime"
      ],
      "metadata": {
        "id": "3zeLCpwjiQCT"
      },
      "execution_count": 2,
      "outputs": []
    },
    {
      "cell_type": "code",
      "source": [
        "#Carga de dataset\n",
        "data = pd.read_csv('/content/Mobile phone price.csv')"
      ],
      "metadata": {
        "id": "V0ZXOA-6iUmV"
      },
      "execution_count": 3,
      "outputs": []
    },
    {
      "cell_type": "code",
      "source": [
        "print(data)"
      ],
      "metadata": {
        "colab": {
          "base_uri": "https://localhost:8080/"
        },
        "id": "h325dVhXicrs",
        "outputId": "971977ed-8b51-45f3-e079-c5d60d820746"
      },
      "execution_count": 4,
      "outputs": [
        {
          "output_type": "stream",
          "name": "stdout",
          "text": [
            "       Brand              Model Storage    RAM  Screen Size (inches)  \\\n",
            "0      Apple      iPhone 13 Pro   128 GB   6 GB                  6.1   \n",
            "1    Samsung   Galaxy S21 Ultra   256 GB  12 GB                  6.8   \n",
            "2    OnePlus              9 Pro   128 GB   8 GB                  6.7   \n",
            "3     Xiaomi  Redmi Note 10 Pro   128 GB   6 GB                 6.67   \n",
            "4     Google            Pixel 6   128 GB   8 GB                  6.4   \n",
            "..       ...                ...      ...    ...                  ...   \n",
            "402  Samsung   Galaxy Note20 5G      128      8                  6.7   \n",
            "403   Xiaomi      Mi 10 Lite 5G      128      6                 6.57   \n",
            "404    Apple  iPhone 12 Pro Max      128      6                  6.7   \n",
            "405     Oppo              Reno3      128      8                  6.4   \n",
            "406  Samsung    Galaxy S10 Lite      128      6                  6.7   \n",
            "\n",
            "            Camera (MP)  Battery Capacity (mAh) Price ($)  \n",
            "0          12 + 12 + 12                    3095       999  \n",
            "1    108 + 10 + 10 + 12                    5000      1199  \n",
            "2       48 + 50 + 8 + 2                    4500       899  \n",
            "3        64 + 8 + 5 + 2                    5020       279  \n",
            "4             50 + 12.2                    4614       799  \n",
            "..                  ...                     ...       ...  \n",
            "402            12+64+12                    4300      1049  \n",
            "403            48+8+2+2                    4160       349  \n",
            "404            12+12+12                    3687      1099  \n",
            "405           48+13+8+2                    4025       429  \n",
            "406             48+12+5                    4500       649  \n",
            "\n",
            "[407 rows x 8 columns]\n"
          ]
        }
      ]
    },
    {
      "cell_type": "code",
      "source": [
        "data.info()"
      ],
      "metadata": {
        "colab": {
          "base_uri": "https://localhost:8080/"
        },
        "id": "ZoYIJwRyifh-",
        "outputId": "560fb6cd-4b49-4c02-831c-1d10f36b31c4"
      },
      "execution_count": 5,
      "outputs": [
        {
          "output_type": "stream",
          "name": "stdout",
          "text": [
            "<class 'pandas.core.frame.DataFrame'>\n",
            "RangeIndex: 407 entries, 0 to 406\n",
            "Data columns (total 8 columns):\n",
            " #   Column                  Non-Null Count  Dtype \n",
            "---  ------                  --------------  ----- \n",
            " 0   Brand                   407 non-null    object\n",
            " 1   Model                   407 non-null    object\n",
            " 2   Storage                 407 non-null    object\n",
            " 3   RAM                     407 non-null    object\n",
            " 4   Screen Size (inches)    407 non-null    object\n",
            " 5   Camera (MP)             407 non-null    object\n",
            " 6   Battery Capacity (mAh)  407 non-null    int64 \n",
            " 7   Price ($)               407 non-null    object\n",
            "dtypes: int64(1), object(7)\n",
            "memory usage: 25.6+ KB\n"
          ]
        }
      ]
    },
    {
      "cell_type": "code",
      "source": [
        "# Para eliminar el simbolo '$' de algunos precios de los celulares\n",
        "columnas_eliminar = ['Price ($)']\n",
        "simbolo = '$'\n",
        "\n",
        "for columna in columnas_eliminar:\n",
        "    data[columna] = data[columna].str.replace(simbolo, '', regex=False)"
      ],
      "metadata": {
        "id": "HW89B4mu73XX"
      },
      "execution_count": 6,
      "outputs": []
    },
    {
      "cell_type": "code",
      "source": [
        "print(data)"
      ],
      "metadata": {
        "colab": {
          "base_uri": "https://localhost:8080/"
        },
        "id": "z_Tu0cjt8pao",
        "outputId": "42a1cf7b-d90c-4913-e3db-d0275c703834"
      },
      "execution_count": 7,
      "outputs": [
        {
          "output_type": "stream",
          "name": "stdout",
          "text": [
            "       Brand              Model Storage    RAM  Screen Size (inches)  \\\n",
            "0      Apple      iPhone 13 Pro   128 GB   6 GB                  6.1   \n",
            "1    Samsung   Galaxy S21 Ultra   256 GB  12 GB                  6.8   \n",
            "2    OnePlus              9 Pro   128 GB   8 GB                  6.7   \n",
            "3     Xiaomi  Redmi Note 10 Pro   128 GB   6 GB                 6.67   \n",
            "4     Google            Pixel 6   128 GB   8 GB                  6.4   \n",
            "..       ...                ...      ...    ...                  ...   \n",
            "402  Samsung   Galaxy Note20 5G      128      8                  6.7   \n",
            "403   Xiaomi      Mi 10 Lite 5G      128      6                 6.57   \n",
            "404    Apple  iPhone 12 Pro Max      128      6                  6.7   \n",
            "405     Oppo              Reno3      128      8                  6.4   \n",
            "406  Samsung    Galaxy S10 Lite      128      6                  6.7   \n",
            "\n",
            "            Camera (MP)  Battery Capacity (mAh) Price ($)  \n",
            "0          12 + 12 + 12                    3095       999  \n",
            "1    108 + 10 + 10 + 12                    5000      1199  \n",
            "2       48 + 50 + 8 + 2                    4500       899  \n",
            "3        64 + 8 + 5 + 2                    5020       279  \n",
            "4             50 + 12.2                    4614       799  \n",
            "..                  ...                     ...       ...  \n",
            "402            12+64+12                    4300      1049  \n",
            "403            48+8+2+2                    4160       349  \n",
            "404            12+12+12                    3687      1099  \n",
            "405           48+13+8+2                    4025       429  \n",
            "406             48+12+5                    4500       649  \n",
            "\n",
            "[407 rows x 8 columns]\n"
          ]
        }
      ]
    },
    {
      "cell_type": "code",
      "source": [
        "data.info()"
      ],
      "metadata": {
        "colab": {
          "base_uri": "https://localhost:8080/"
        },
        "id": "qpdrG1-_8uuG",
        "outputId": "b728ce38-2458-48c7-e59d-0084649e2f6b"
      },
      "execution_count": 8,
      "outputs": [
        {
          "output_type": "stream",
          "name": "stdout",
          "text": [
            "<class 'pandas.core.frame.DataFrame'>\n",
            "RangeIndex: 407 entries, 0 to 406\n",
            "Data columns (total 8 columns):\n",
            " #   Column                  Non-Null Count  Dtype \n",
            "---  ------                  --------------  ----- \n",
            " 0   Brand                   407 non-null    object\n",
            " 1   Model                   407 non-null    object\n",
            " 2   Storage                 407 non-null    object\n",
            " 3   RAM                     407 non-null    object\n",
            " 4   Screen Size (inches)    407 non-null    object\n",
            " 5   Camera (MP)             407 non-null    object\n",
            " 6   Battery Capacity (mAh)  407 non-null    int64 \n",
            " 7   Price ($)               407 non-null    object\n",
            "dtypes: int64(1), object(7)\n",
            "memory usage: 25.6+ KB\n"
          ]
        }
      ]
    },
    {
      "cell_type": "code",
      "source": [
        "\n",
        "# Supongamos que 'data' es tu DataFrame\n",
        "columna_categorica = 'Price ($)'\n",
        "columna_numerica = 'Price'\n",
        "\n",
        "# Crea una nueva columna numérica y copia los valores de la columna categórica\n",
        "data[columna_numerica] = pd.to_numeric(data[columna_categorica], errors='coerce')\n",
        "\n",
        "# Elimina la columna categórica original\n",
        "data.drop(columna_categorica, axis=1, inplace=True)"
      ],
      "metadata": {
        "id": "iFCu2N4YuhfQ"
      },
      "execution_count": 9,
      "outputs": []
    },
    {
      "cell_type": "code",
      "source": [
        "data.info()"
      ],
      "metadata": {
        "colab": {
          "base_uri": "https://localhost:8080/"
        },
        "id": "VpbiDOZmjHzw",
        "outputId": "77266e31-f52a-4e32-be2e-6b1a9b03256a"
      },
      "execution_count": 10,
      "outputs": [
        {
          "output_type": "stream",
          "name": "stdout",
          "text": [
            "<class 'pandas.core.frame.DataFrame'>\n",
            "RangeIndex: 407 entries, 0 to 406\n",
            "Data columns (total 8 columns):\n",
            " #   Column                  Non-Null Count  Dtype  \n",
            "---  ------                  --------------  -----  \n",
            " 0   Brand                   407 non-null    object \n",
            " 1   Model                   407 non-null    object \n",
            " 2   Storage                 407 non-null    object \n",
            " 3   RAM                     407 non-null    object \n",
            " 4   Screen Size (inches)    407 non-null    object \n",
            " 5   Camera (MP)             407 non-null    object \n",
            " 6   Battery Capacity (mAh)  407 non-null    int64  \n",
            " 7   Price                   404 non-null    float64\n",
            "dtypes: float64(1), int64(1), object(6)\n",
            "memory usage: 25.6+ KB\n"
          ]
        }
      ]
    },
    {
      "cell_type": "code",
      "source": [
        "#Convertir variables categoricas a variables numericas\n",
        "columnas_categoricas = data.select_dtypes(include=['object']).columns\n",
        "#Convertir variables fechas a variables numericas (si es necesario)\n",
        "columnas_fechas = data.select_dtypes(include=['datetime64']).columns"
      ],
      "metadata": {
        "id": "sFmWfM7Mjn9Z"
      },
      "execution_count": 11,
      "outputs": []
    },
    {
      "cell_type": "code",
      "source": [
        "#Procesamiento de frases o palabras\n",
        "for columna in columnas_categoricas:\n",
        "  le = LabelEncoder()\n",
        "  data[columna] = le.fit_transform(data[columna])"
      ],
      "metadata": {
        "id": "GcxRaOoqkOyD"
      },
      "execution_count": 12,
      "outputs": []
    },
    {
      "cell_type": "code",
      "source": [
        "#Fechas a numeros\n",
        "for columna in columnas_fechas:\n",
        "  data[columna] = pd.to_numeric(data[columna].map(datetime.timestamp))"
      ],
      "metadata": {
        "id": "hVuep7WXkQvA"
      },
      "execution_count": 13,
      "outputs": []
    },
    {
      "cell_type": "code",
      "source": [
        "#resultado\n",
        "print(data)"
      ],
      "metadata": {
        "colab": {
          "base_uri": "https://localhost:8080/"
        },
        "id": "vHzN_Uj0kS96",
        "outputId": "04be99e4-3a78-4b4a-84a0-e09a0b493073"
      },
      "execution_count": 14,
      "outputs": [
        {
          "output_type": "stream",
          "name": "stdout",
          "text": [
            "     Brand  Model  Storage   RAM   Screen Size (inches)  Camera (MP)  \\\n",
            "0        0    232         1    15                     8           15   \n",
            "1       12    100         4     1                    35            0   \n",
            "2        9     19         1    18                    31           53   \n",
            "3       15    178         1    15                    30          119   \n",
            "4        4    162         1    18                    15           87   \n",
            "..     ...    ...       ...   ...                   ...          ...   \n",
            "402     12     95         0    17                    31           19   \n",
            "403     15    111         0    14                    26           70   \n",
            "404      0    229         0    14                    31           17   \n",
            "405     10    188         0    17                    15           59   \n",
            "406     12     96         0    14                    31           57   \n",
            "\n",
            "     Battery Capacity (mAh)   Price  \n",
            "0                      3095   999.0  \n",
            "1                      5000  1199.0  \n",
            "2                      4500   899.0  \n",
            "3                      5020   279.0  \n",
            "4                      4614   799.0  \n",
            "..                      ...     ...  \n",
            "402                    4300  1049.0  \n",
            "403                    4160   349.0  \n",
            "404                    3687  1099.0  \n",
            "405                    4025   429.0  \n",
            "406                    4500   649.0  \n",
            "\n",
            "[407 rows x 8 columns]\n"
          ]
        }
      ]
    },
    {
      "cell_type": "code",
      "source": [
        "data.info()"
      ],
      "metadata": {
        "colab": {
          "base_uri": "https://localhost:8080/"
        },
        "id": "tJ9GFsACksGy",
        "outputId": "8a1c4bec-bb3c-4da8-f649-caf2ed0ccff6"
      },
      "execution_count": 15,
      "outputs": [
        {
          "output_type": "stream",
          "name": "stdout",
          "text": [
            "<class 'pandas.core.frame.DataFrame'>\n",
            "RangeIndex: 407 entries, 0 to 406\n",
            "Data columns (total 8 columns):\n",
            " #   Column                  Non-Null Count  Dtype  \n",
            "---  ------                  --------------  -----  \n",
            " 0   Brand                   407 non-null    int64  \n",
            " 1   Model                   407 non-null    int64  \n",
            " 2   Storage                 407 non-null    int64  \n",
            " 3   RAM                     407 non-null    int64  \n",
            " 4   Screen Size (inches)    407 non-null    int64  \n",
            " 5   Camera (MP)             407 non-null    int64  \n",
            " 6   Battery Capacity (mAh)  407 non-null    int64  \n",
            " 7   Price                   404 non-null    float64\n",
            "dtypes: float64(1), int64(7)\n",
            "memory usage: 25.6 KB\n"
          ]
        }
      ]
    },
    {
      "cell_type": "code",
      "source": [
        "#llenar datos vacios\n",
        "columnas_especificas = ['Price']\n",
        "media_columnas = data[columnas_especificas].mean()\n",
        "data[columnas_especificas] = data[columnas_especificas].fillna(media_columnas)"
      ],
      "metadata": {
        "id": "aL01HjE1tMNP"
      },
      "execution_count": 16,
      "outputs": []
    },
    {
      "cell_type": "code",
      "source": [
        "data.info()"
      ],
      "metadata": {
        "colab": {
          "base_uri": "https://localhost:8080/"
        },
        "id": "IZheY0q7lvQg",
        "outputId": "84d7f463-b965-4fa3-edd0-4907ed7d2e25"
      },
      "execution_count": 17,
      "outputs": [
        {
          "output_type": "stream",
          "name": "stdout",
          "text": [
            "<class 'pandas.core.frame.DataFrame'>\n",
            "RangeIndex: 407 entries, 0 to 406\n",
            "Data columns (total 8 columns):\n",
            " #   Column                  Non-Null Count  Dtype  \n",
            "---  ------                  --------------  -----  \n",
            " 0   Brand                   407 non-null    int64  \n",
            " 1   Model                   407 non-null    int64  \n",
            " 2   Storage                 407 non-null    int64  \n",
            " 3   RAM                     407 non-null    int64  \n",
            " 4   Screen Size (inches)    407 non-null    int64  \n",
            " 5   Camera (MP)             407 non-null    int64  \n",
            " 6   Battery Capacity (mAh)  407 non-null    int64  \n",
            " 7   Price                   407 non-null    float64\n",
            "dtypes: float64(1), int64(7)\n",
            "memory usage: 25.6 KB\n"
          ]
        }
      ]
    },
    {
      "cell_type": "code",
      "source": [
        "# Lectura de Datos\n",
        "X = data.iloc[:, :7]\n",
        "y = data.iloc[:, 7]\n",
        "m = y.size"
      ],
      "metadata": {
        "id": "YuuRUXgCwvZ_"
      },
      "execution_count": 18,
      "outputs": []
    },
    {
      "cell_type": "code",
      "source": [
        "print(X)\n",
        "print('*'*25)\n",
        "print(y)"
      ],
      "metadata": {
        "colab": {
          "base_uri": "https://localhost:8080/"
        },
        "id": "x1NBC6A6xFoC",
        "outputId": "143e1be4-3865-4d61-f565-c64ea5db7534"
      },
      "execution_count": 19,
      "outputs": [
        {
          "output_type": "stream",
          "name": "stdout",
          "text": [
            "     Brand  Model  Storage   RAM   Screen Size (inches)  Camera (MP)  \\\n",
            "0        0    232         1    15                     8           15   \n",
            "1       12    100         4     1                    35            0   \n",
            "2        9     19         1    18                    31           53   \n",
            "3       15    178         1    15                    30          119   \n",
            "4        4    162         1    18                    15           87   \n",
            "..     ...    ...       ...   ...                   ...          ...   \n",
            "402     12     95         0    17                    31           19   \n",
            "403     15    111         0    14                    26           70   \n",
            "404      0    229         0    14                    31           17   \n",
            "405     10    188         0    17                    15           59   \n",
            "406     12     96         0    14                    31           57   \n",
            "\n",
            "     Battery Capacity (mAh)  \n",
            "0                      3095  \n",
            "1                      5000  \n",
            "2                      4500  \n",
            "3                      5020  \n",
            "4                      4614  \n",
            "..                      ...  \n",
            "402                    4300  \n",
            "403                    4160  \n",
            "404                    3687  \n",
            "405                    4025  \n",
            "406                    4500  \n",
            "\n",
            "[407 rows x 7 columns]\n",
            "*************************\n",
            "0       999.0\n",
            "1      1199.0\n",
            "2       899.0\n",
            "3       279.0\n",
            "4       799.0\n",
            "        ...  \n",
            "402    1049.0\n",
            "403     349.0\n",
            "404    1099.0\n",
            "405     429.0\n",
            "406     649.0\n",
            "Name: Price, Length: 407, dtype: float64\n"
          ]
        }
      ]
    },
    {
      "cell_type": "code",
      "source": [
        "def  featureNormalize(X):\n",
        "    X_norm = X.copy()\n",
        "    mu = np.zeros(X.shape[1])\n",
        "    sigma = np.zeros(X.shape[1])\n",
        "\n",
        "    mu = np.mean(X, axis = 0)\n",
        "    sigma = np.std(X, axis = 0)\n",
        "    X_norm = (X - mu) / sigma\n",
        "\n",
        "    return X_norm, mu, sigma"
      ],
      "metadata": {
        "id": "DrrFytt2gkI8"
      },
      "execution_count": 20,
      "outputs": []
    },
    {
      "cell_type": "code",
      "source": [
        "# llama featureNormalize con los datos cargados\n",
        "X_norm, mu, sigma = featureNormalize(X)\n",
        "\n",
        "print(X)\n",
        "print('Media calculada:', mu)\n",
        "print('Desviación estandar calculada:', sigma)\n",
        "print(X_norm)"
      ],
      "metadata": {
        "colab": {
          "base_uri": "https://localhost:8080/"
        },
        "id": "MhHhItqc4YLy",
        "outputId": "b11f48bd-dd89-4025-f025-5625b96a8ca9"
      },
      "execution_count": 21,
      "outputs": [
        {
          "output_type": "stream",
          "name": "stdout",
          "text": [
            "     Brand  Model  Storage   RAM   Screen Size (inches)  Camera (MP)  \\\n",
            "0        0    232         1    15                     8           15   \n",
            "1       12    100         4     1                    35            0   \n",
            "2        9     19         1    18                    31           53   \n",
            "3       15    178         1    15                    30          119   \n",
            "4        4    162         1    18                    15           87   \n",
            "..     ...    ...       ...   ...                   ...          ...   \n",
            "402     12     95         0    17                    31           19   \n",
            "403     15    111         0    14                    26           70   \n",
            "404      0    229         0    14                    31           17   \n",
            "405     10    188         0    17                    15           59   \n",
            "406     12     96         0    14                    31           57   \n",
            "\n",
            "     Battery Capacity (mAh)  \n",
            "0                      3095  \n",
            "1                      5000  \n",
            "2                      4500  \n",
            "3                      5020  \n",
            "4                      4614  \n",
            "..                      ...  \n",
            "402                    4300  \n",
            "403                    4160  \n",
            "404                    3687  \n",
            "405                    4025  \n",
            "406                    4500  \n",
            "\n",
            "[407 rows x 7 columns]\n",
            "Media calculada: Brand                       10.142506\n",
            "Model                      118.211302\n",
            "Storage                      4.083538\n",
            "RAM                         12.842752\n",
            "Screen Size (inches)        21.437346\n",
            "Camera (MP)                 71.454545\n",
            "Battery Capacity (mAh)    4676.476658\n",
            "dtype: float64\n",
            "Desviación estandar calculada: Brand                       4.174844\n",
            "Model                      70.448856\n",
            "Storage                     4.229056\n",
            "RAM                         4.662553\n",
            "Screen Size (inches)        7.900821\n",
            "Camera (MP)                41.520988\n",
            "Battery Capacity (mAh)    796.213758\n",
            "dtype: float64\n",
            "        Brand     Model  Storage       RAM   Screen Size (inches)  \\\n",
            "0   -2.429433  1.615196 -0.729132  0.462675             -1.700753   \n",
            "1    0.444925 -0.258504 -0.019753 -2.539972              1.716613   \n",
            "2   -0.273664 -1.408274 -0.729132  1.106100              1.210337   \n",
            "3    1.163515  0.848682 -0.729132  0.462675              1.083768   \n",
            "4   -1.471314  0.621567 -0.729132  1.106100             -0.814769   \n",
            "..        ...       ...       ...       ...                   ...   \n",
            "402  0.444925 -0.329477 -0.965591  0.891625              1.210337   \n",
            "403  1.163515 -0.102362 -0.965591  0.248201              0.577491   \n",
            "404 -2.429433  1.572612 -0.965591  0.248201              1.210337   \n",
            "405 -0.034134  0.990629 -0.965591  0.891625             -0.814769   \n",
            "406  0.444925 -0.315283 -0.965591  0.248201              1.210337   \n",
            "\n",
            "     Camera (MP)  Battery Capacity (mAh)  \n",
            "0      -1.359663               -1.986246  \n",
            "1      -1.720926                0.406327  \n",
            "2      -0.444463               -0.221645  \n",
            "3       1.145095                0.431446  \n",
            "4       0.374400               -0.078467  \n",
            "..           ...                     ...  \n",
            "402    -1.263326               -0.472834  \n",
            "403    -0.035032               -0.648666  \n",
            "404    -1.311494               -1.242727  \n",
            "405    -0.299958               -0.818218  \n",
            "406    -0.348126               -0.221645  \n",
            "\n",
            "[407 rows x 7 columns]\n"
          ]
        }
      ]
    },
    {
      "cell_type": "code",
      "source": [
        "# Añade o concatenamos el termino de interseccion a X\n",
        "# (Columna de unos para X0)\n",
        "X = np.concatenate([np.ones((m, 1)), X_norm], axis=1)"
      ],
      "metadata": {
        "id": "EB4cCmdm4bxJ"
      },
      "execution_count": 22,
      "outputs": []
    },
    {
      "cell_type": "code",
      "source": [
        "print(X)"
      ],
      "metadata": {
        "colab": {
          "base_uri": "https://localhost:8080/"
        },
        "id": "jxdWrQDC4fcD",
        "outputId": "a776fe19-7eff-4073-f022-d34b7bc1508f"
      },
      "execution_count": 23,
      "outputs": [
        {
          "output_type": "stream",
          "name": "stdout",
          "text": [
            "[[ 1.         -2.42943349  1.61519582 ... -1.70075309 -1.35966288\n",
            "  -1.98624634]\n",
            " [ 1.          0.44492532 -0.25850387 ...  1.71661311 -1.72092596\n",
            "   0.40632724]\n",
            " [ 1.         -0.27366438 -1.40827414 ...  1.21033663 -0.44446307\n",
            "  -0.22164482]\n",
            " ...\n",
            " [ 1.         -2.42943349  1.57261173 ...  1.21033663 -1.31149447\n",
            "  -1.24272741]\n",
            " [ 1.         -0.03413448  0.99062925 ... -0.81476926 -0.29995783\n",
            "  -0.81821829]\n",
            " [ 1.          0.44492532 -0.31528265 ...  1.21033663 -0.34812624\n",
            "  -0.22164482]]\n"
          ]
        }
      ]
    },
    {
      "cell_type": "code",
      "source": [
        "def computeCostMulti(X, y, theta):\n",
        "    # Inicializa algunos valores utiles\n",
        "    m = y.shape[0] # numero de ejemplos de entrenamiento\n",
        "\n",
        "    J = 0\n",
        "\n",
        "    h = np.dot(X, theta)\n",
        "\n",
        "    J = (1/(2 * m)) * np.sum(np.square(np.dot(X, theta) - y))\n",
        "\n",
        "    return J\n"
      ],
      "metadata": {
        "id": "is_NER384kX5"
      },
      "execution_count": 24,
      "outputs": []
    },
    {
      "cell_type": "code",
      "source": [
        "def gradientDescentMulti(X, y, theta, alpha, num_iters):\n",
        "\n",
        "    # Inicializa algunos valores\n",
        "    m = y.shape[0] # numero de ejemplos de entrenamiento\n",
        "\n",
        "    # realiza una copia de theta, el cual será acutalizada por el descenso por el gradiente\n",
        "    theta = theta.copy()\n",
        "\n",
        "    J_history = []\n",
        "\n",
        "    for i in range(num_iters):\n",
        "        theta = theta - (alpha / m) * (np.dot(X, theta) - y).dot(X)\n",
        "        J_history.append(computeCostMulti(X, y, theta))\n",
        "\n",
        "    return theta, J_history"
      ],
      "metadata": {
        "id": "NTic99Il4k9H"
      },
      "execution_count": 25,
      "outputs": []
    },
    {
      "cell_type": "code",
      "source": [
        "# Elegir algun valor para alpha (probar varias alternativas)\n",
        "alpha = 0.001\n",
        "num_iters = 5000\n",
        "\n",
        "# inicializa theta y ejecuta el descenso por el gradiente\n",
        "theta = np.zeros(8)\n",
        "theta, J_history = gradientDescentMulti(X, y, theta, alpha, num_iters)\n",
        "\n",
        "# Grafica la convergencia del costo\n",
        "pyplot.plot(np.arange(len(J_history)), J_history, lw=2)\n",
        "pyplot.xlabel('Numero de iteraciones')\n",
        "pyplot.ylabel('Costo J')\n",
        "\n",
        "# Muestra los resultados del descenso por el gradiente\n",
        "print('theta calculado por el descenso por el gradiente: {:s}'.format(str(theta)))\n",
        "\n",
        "# Estimar el precio para un telefono celular con sus distintas caracteristicas\n",
        "X_array = [1, 0, 236, 4, 16, 9, 16, 3100]\n",
        "X_array[1:8] = (X_array[1:8] - mu) / sigma\n",
        "price = np.dot(X_array, theta)   # Se debe cambiar esto\n",
        "\n",
        "print('El valor predecido es (usando el descenso por el gradiente): {:.4f}'.format(price))"
      ],
      "metadata": {
        "colab": {
          "base_uri": "https://localhost:8080/",
          "height": 501
        },
        "id": "2sc2AmKF4qJQ",
        "outputId": "9eb94339-a315-498a-bfb4-1e9962331748"
      },
      "execution_count": 26,
      "outputs": [
        {
          "output_type": "stream",
          "name": "stdout",
          "text": [
            "theta calculado por el descenso por el gradiente: [ 399.49234327 -100.08742774   36.52401976  -73.04735001  -27.95775327\n",
            "  133.37377118  -19.20703839 -107.73273781]\n",
            "El valor predecido es (usando el descenso por el gradiente): 715.2315\n"
          ]
        },
        {
          "output_type": "display_data",
          "data": {
            "text/plain": [
              "<Figure size 640x480 with 1 Axes>"
            ],
            "image/png": "[encoded data removed]"
          },
          "metadata": {}
        }
      ]
    },
    {
      "cell_type": "code",
      "source": [
        "X_array = [1, 0, 236, 4, 16, 9, 16, 3100]\n",
        "X_array[1:8] = (X_array[1:13] - mu) / sigma"
      ],
      "metadata": {
        "id": "pHpGapUtf4QP"
      },
      "execution_count": 27,
      "outputs": []
    },
    {
      "cell_type": "code",
      "source": [
        "X_array[1:8]"
      ],
      "metadata": {
        "colab": {
          "base_uri": "https://localhost:8080/"
        },
        "id": "c_fhRmzof56K",
        "outputId": "eb72cd22-4fb5-4c0e-9f9b-21db7e3b2f48"
      },
      "execution_count": 28,
      "outputs": [
        {
          "output_type": "execute_result",
          "data": {
            "text/plain": [
              "[-2.429433493652665,\n",
              " 1.6719745935448724,\n",
              " -0.019753364991888518,\n",
              " 0.6771500796279134,\n",
              " -1.5741839761096637,\n",
              " -1.3355786736013184,\n",
              " -1.9799666151191675]"
            ]
          },
          "metadata": {},
          "execution_count": 28
        }
      ]
    },
    {
      "cell_type": "code",
      "source": [
        "def normalEqn(X, y):\n",
        "\n",
        "    theta = np.zeros(X.shape[1])\n",
        "\n",
        "    theta = np.dot(np.dot(np.linalg.inv(np.dot(X.T,X)),X.T),y)\n",
        "\n",
        "    return theta"
      ],
      "metadata": {
        "id": "_MMoIdODf9FN"
      },
      "execution_count": 29,
      "outputs": []
    },
    {
      "cell_type": "code",
      "source": [
        "# Calcula los parametros con la ecuación de la normal\n",
        "theta = normalEqn(X, y);\n",
        "\n",
        "# Muestra los resultados optenidos a partir de la aplicación de la ecuación de la normal\n",
        "print('Theta calculado a partir de la ecuación de la normal: {:s}'.format(str(theta)));\n",
        "\n",
        "# Estimar el precio de un telefono celular con sus distintas caracteristicas mediante la media\n",
        "\n",
        "X_array = [1, 0, 236, 4, 16, 9, 16, 3100]\n",
        "price = np.dot(X_array, theta)\n",
        "\n",
        "print('Precio predecido para un celular cambiando sus caracteristicas (usando la ecuación de la normal): ${:.0f}'.format(price))"
      ],
      "metadata": {
        "colab": {
          "base_uri": "https://localhost:8080/"
        },
        "id": "E7px4OMrf9un",
        "outputId": "cf247f99-a3f2-4ed8-baad-fc107b13ac71"
      },
      "execution_count": 30,
      "outputs": [
        {
          "output_type": "stream",
          "name": "stdout",
          "text": [
            "Theta calculado a partir de la ecuación de la normal: [ 402.19554455 -100.73176276   34.97157636  -69.59108779  -25.79732134\n",
            "  143.33144635  -17.2794672  -116.75451887]\n",
            "Precio predecido para un celular cambiando sus caracteristicas (usando la ecuación de la normal): $-352961\n"
          ]
        }
      ]
    }
  ]
}