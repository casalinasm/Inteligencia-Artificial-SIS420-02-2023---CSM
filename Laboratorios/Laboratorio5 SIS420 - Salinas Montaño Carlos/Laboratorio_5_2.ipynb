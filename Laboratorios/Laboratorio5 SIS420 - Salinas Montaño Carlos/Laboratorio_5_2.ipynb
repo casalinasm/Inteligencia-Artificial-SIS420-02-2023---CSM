{
  "nbformat": 4,
  "nbformat_minor": 0,
  "metadata": {
    "colab": {
      "provenance": []
    },
    "kernelspec": {
      "name": "python3",
      "display_name": "Python 3"
    },
    "language_info": {
      "name": "python"
    }
  },
  "cells": [
    {
      "cell_type": "code",
      "execution_count": null,
      "metadata": {
        "id": "JZqxYLO_BBOB"
      },
      "outputs": [],
      "source": [
        "from google.colab import drive\n",
        "drive.mount('/content/gdrive/')"
      ]
    },
    {
      "cell_type": "code",
      "source": [
        "import sys\n",
        "sys.path.append('/content/gdrive/MyDrive/Colab Notebooks/codigos ing/busquedas/03 busquedas informadas')\n",
        "\n",
        "from NodosBI import NodoBI"
      ],
      "metadata": {
        "id": "mCNpl98JBkI-"
      },
      "execution_count": null,
      "outputs": []
    },
    {
      "cell_type": "code",
      "source": [
        "def busqueda_heuristica(nodo_inicial, solucion, visitados):\n",
        "    visitados.append(nodo_inicial.get_estado())\n",
        "    if nodo_inicial.get_estado() == solucion:\n",
        "        return nodo_inicial\n",
        "    else:\n",
        "        # Expandir nodos sucesores (hijos)\n",
        "        nodo_estado = nodo_inicial.get_estado()\n",
        "        N = len(nodo_estado)\n",
        "        hijos = []\n",
        "\n",
        "        for i in range(N - 1):\n",
        "            for j in range(i + 1, N):\n",
        "                hijo_estado = nodo_estado[:]\n",
        "\n",
        "                # Intercambiar elementos i y j\n",
        "                hijo_estado[i], hijo_estado[j] = hijo_estado[j], hijo_estado[i]\n",
        "                hijo_nodo = NodoBI(hijo_estado)\n",
        "                hijos.append(hijo_nodo)\n",
        "\n",
        "        nodo_inicial.set_hijo(hijos)\n",
        "\n",
        "        for hijo_node in nodo_inicial.get_hijo():\n",
        "            if not hijo_node.get_estado() in visitados and heuristica(hijo_node, solucion):\n",
        "                # Llamada recursiva\n",
        "                solu = busqueda_heuristica(hijo_node, solucion, visitados)\n",
        "                if solu is not None:\n",
        "                    return solu\n",
        "        return None\n",
        "\n",
        "def heuristica(padre_node, solucion):\n",
        "    padre_data = padre_node.get_estado()\n",
        "    solucion_data = solucion\n",
        "\n",
        "    count_in_place = sum(1 for i, j in zip(padre_data, solucion_data) if i == j)\n",
        "    return count_in_place"
      ],
      "metadata": {
        "id": "aspcA9rnBFWf"
      },
      "execution_count": null,
      "outputs": []
    },
    {
      "cell_type": "code",
      "source": [
        "if __name__ == \"__main__\":\n",
        "    estado_inicial = [1, 2, 3, 4, ...]  # Lista con N elementos\n",
        "    estado_solucion = [N, N-1, N-2, ..., 1]  # Lista con N elementos\n",
        "\n",
        "    visitados_nodes = []\n",
        "    nodo_inicial = NodoBI(estado_inicial)\n",
        "    nodo_solucion = busqueda_heuristica(nodo_inicial, estado_solucion, visitados_nodes)\n",
        "\n",
        "    print(nodo_solucion)\n",
        "\n",
        "    resultado = []\n",
        "\n",
        "    node = nodo_solucion\n",
        "    while node.get_padre() is not None:\n",
        "        resultado.append(node.get_estado())\n",
        "        node = node.get_padre()\n",
        "    resultado.append(estado_inicial)\n",
        "    resultado.reverse()\n",
        "    print(resultado)"
      ],
      "metadata": {
        "id": "s21OlN28BLSu"
      },
      "execution_count": null,
      "outputs": []
    }
  ]
}