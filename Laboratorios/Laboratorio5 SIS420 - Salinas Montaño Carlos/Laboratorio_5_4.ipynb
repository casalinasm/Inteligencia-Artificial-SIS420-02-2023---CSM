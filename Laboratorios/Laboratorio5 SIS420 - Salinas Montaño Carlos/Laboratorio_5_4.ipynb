{
  "nbformat": 4,
  "nbformat_minor": 0,
  "metadata": {
    "colab": {
      "provenance": []
    },
    "kernelspec": {
      "name": "python3",
      "display_name": "Python 3"
    },
    "language_info": {
      "name": "python"
    }
  },
  "cells": [
    {
      "cell_type": "markdown",
      "source": [
        "Heuristica Propuesta: distancia Manhattan. La distancia Manhattan es una heurística ampliamente utilizada para resolver problemas de deslizamiento y es más eficiente que contar inversiones o verificar cuántos elementos están en la posición correcta.\n",
        "\n",
        "La distancia Manhattan se calcula como la suma de las distancias horizontales y verticales entre las posiciones actual y deseada de cada número en el rompecabezas. Cuanto menor sea la distancia Manhattan, más cerca estará el estado del objetivo."
      ],
      "metadata": {
        "id": "MXvlCPa1D5yO"
      }
    },
    {
      "cell_type": "code",
      "source": [
        "from google.colab import drive\n",
        "drive.mount('/content/gdrive/')"
      ],
      "metadata": {
        "id": "tO_FEYNTEZnF"
      },
      "execution_count": null,
      "outputs": []
    },
    {
      "cell_type": "code",
      "source": [
        "import sys\n",
        "sys.path.append('/content/gdrive/MyDrive/Colab Notebooks/codigos ing/busquedas/03 busquedas informadas')\n",
        "\n",
        "from NodosBI import NodoBI"
      ],
      "metadata": {
        "id": "-s3ads6-EcsF"
      },
      "execution_count": null,
      "outputs": []
    },
    {
      "cell_type": "code",
      "execution_count": null,
      "metadata": {
        "id": "JmsIjKkND4jC"
      },
      "outputs": [],
      "source": [
        "def busqueda_heuristica(nodo_inicial, solucion, visitados):\n",
        "    visitados.append(nodo_inicial.get_estado())\n",
        "    if nodo_inicial.get_estado() == solucion:\n",
        "        return nodo_inicial\n",
        "    else:\n",
        "        # Expandir nodos sucesores (hijos)\n",
        "        nodo_estado = nodo_inicial.get_estado()\n",
        "        N = len(nodo_estado)\n",
        "        hijos = []\n",
        "\n",
        "        for i in range(N - 1):\n",
        "            for j in range(i + 1, N):\n",
        "                hijo_estado = nodo_estado[:]\n",
        "\n",
        "                # Intercambiar elementos i y j\n",
        "                hijo_estado[i], hijo_estado[j] = hijo_estado[j], hijo_estado[i]\n",
        "                hijo_nodo = NodoBI(hijo_estado)\n",
        "                hijos.append(hijo_nodo)\n",
        "\n",
        "        nodo_inicial.set_hijo(hijos)\n",
        "\n",
        "        for hijo_node in nodo_inicial.get_hijo():\n",
        "            if not hijo_node.get_estado() in visitados and heuristica(hijo_node, solucion):\n",
        "                # Llamada recursiva\n",
        "                solu = busqueda_heuristica(hijo_node, solucion, visitados)\n",
        "                if solu is not None:\n",
        "                    return solu\n",
        "        return None\n",
        "\n",
        "def heuristica(padre_node, solucion):\n",
        "    padre_data = padre_node.get_estado()\n",
        "    solucion_data = solucion\n",
        "\n",
        "    N = len(padre_data)\n",
        "    distance_manhattan = 0\n",
        "\n",
        "    for i in range(N):\n",
        "        if padre_data[i] != solucion_data[i]:\n",
        "            # Encuentra la posición en la solución deseada\n",
        "            target_index = solucion_data.index(padre_data[i])\n",
        "            # Calcula la distancia Manhattan y la agrega a la suma total\n",
        "            x1, y1 = i % int(N**0.5), i // int(N**0.5)\n",
        "            x2, y2 = target_index % int(N**0.5), target_index // int(N**0.5)\n",
        "            distance_manhattan += abs(x1 - x2) + abs(y1 - y2)\n",
        "\n",
        "    return distance_manhattan"
      ]
    },
    {
      "cell_type": "code",
      "source": [
        "if __name__ == \"__main__\":\n",
        "    estado_inicial = [1, 2, 3, 4, ...]  # Lista con N elementos\n",
        "    estado_solucion = [N, N-1, N-2, ..., 1]  # Lista con N elementos\n",
        "\n",
        "    visitados_nodes = []\n",
        "    nodo_inicial = NodoBI(estado_inicial)\n",
        "    nodo_solucion = busqueda_heuristica(nodo_inicial, estado_solucion, visitados_nodes)\n",
        "\n",
        "    print(nodo_solucion)\n",
        "\n",
        "    resultado = []\n",
        "\n",
        "    node = nodo_solucion\n",
        "    while node.get_padre() is not None:\n",
        "        resultado.append(node.get_estado())\n",
        "        node = node.get_padre()\n",
        "    resultado.append(estado_inicial)\n",
        "    resultado.reverse()\n",
        "    print(resultado)"
      ],
      "metadata": {
        "id": "7EPyfPJpEW92"
      },
      "execution_count": null,
      "outputs": []
    }
  ]
}