{
  "nbformat": 4,
  "nbformat_minor": 0,
  "metadata": {
    "colab": {
      "provenance": []
    },
    "kernelspec": {
      "name": "python3",
      "display_name": "Python 3"
    },
    "language_info": {
      "name": "python"
    }
  },
  "cells": [
    {
      "cell_type": "code",
      "source": [
        "from google.colab import drive\n",
        "drive.mount('/content/gdrive/')"
      ],
      "metadata": {
        "colab": {
          "base_uri": "https://localhost:8080/"
        },
        "id": "jYbjYRmx-jHp",
        "outputId": "d88d4cd6-22ef-4dd4-d678-5fe6fc4f2465"
      },
      "execution_count": null,
      "outputs": [
        {
          "output_type": "stream",
          "name": "stdout",
          "text": [
            "Mounted at /content/gdrive/\n"
          ]
        }
      ]
    },
    {
      "cell_type": "code",
      "execution_count": null,
      "metadata": {
        "colab": {
          "base_uri": "https://localhost:8080/",
          "height": 350
        },
        "id": "yuhnFZel8ySB",
        "outputId": "eb31c076-27f6-4948-9e01-1294d9eb0e21"
      },
      "outputs": [
        {
          "output_type": "error",
          "ename": "ModuleNotFoundError",
          "evalue": "ignored",
          "traceback": [
            "\u001b[0;31m---------------------------------------------------------------------------\u001b[0m",
            "\u001b[0;31mModuleNotFoundError\u001b[0m                       Traceback (most recent call last)",
            "\u001b[0;32m<ipython-input-3-4af7d0ad8c6f>\u001b[0m in \u001b[0;36m<cell line: 4>\u001b[0;34m()\u001b[0m\n\u001b[1;32m      2\u001b[0m \u001b[0msys\u001b[0m\u001b[0;34m.\u001b[0m\u001b[0mpath\u001b[0m\u001b[0;34m.\u001b[0m\u001b[0mappend\u001b[0m\u001b[0;34m(\u001b[0m\u001b[0;34m'/content/gdrive/MyDrive/Colab Notebooks/codigos ing/busquedas/03 busquedas informadas'\u001b[0m\u001b[0;34m)\u001b[0m\u001b[0;34m\u001b[0m\u001b[0;34m\u001b[0m\u001b[0m\n\u001b[1;32m      3\u001b[0m \u001b[0;34m\u001b[0m\u001b[0m\n\u001b[0;32m----> 4\u001b[0;31m \u001b[0;32mfrom\u001b[0m \u001b[0mNodosBI\u001b[0m \u001b[0;32mimport\u001b[0m \u001b[0mNodoBI\u001b[0m\u001b[0;34m\u001b[0m\u001b[0;34m\u001b[0m\u001b[0m\n\u001b[0m",
            "\u001b[0;31mModuleNotFoundError\u001b[0m: No module named 'NodosBI'",
            "",
            "\u001b[0;31m---------------------------------------------------------------------------\u001b[0;32m\nNOTE: If your import is failing due to a missing package, you can\nmanually install dependencies using either !pip or !apt.\n\nTo view examples of installing some common dependencies, click the\n\"Open Examples\" button below.\n\u001b[0;31m---------------------------------------------------------------------------\u001b[0m\n"
          ],
          "errorDetails": {
            "actions": [
              {
                "action": "open_url",
                "actionText": "Open Examples",
                "url": "/notebooks/snippets/importing_libraries.ipynb"
              }
            ]
          }
        }
      ],
      "source": [
        "import sys\n",
        "sys.path.append('/content/gdrive/MyDrive/Colab Notebooks/codigos ing/busquedas/03 busquedas informadas')\n",
        "\n",
        "from NodosBI import NodoBI"
      ]
    },
    {
      "cell_type": "code",
      "source": [
        "def busqueda_heuristica(nodo_inicial, solucion, visitados):\n",
        "    visitados.append(nodo_inicial.get_estado())\n",
        "    if nodo_inicial.get_estado() == solucion:\n",
        "        return nodo_inicial\n",
        "    else:\n",
        "        # Expandir nodos sucesores (hijos)\n",
        "        nodo_estado = nodo_inicial.get_estado()\n",
        "        N = len(nodo_estado)\n",
        "        hijos = []\n",
        "\n",
        "        for i in range(N - 1):\n",
        "            for j in range(i + 1, N):\n",
        "                hijo_estado = nodo_estado[:]\n",
        "\n",
        "                # Intercambiar elementos i y j\n",
        "                hijo_estado[i], hijo_estado[j] = hijo_estado[j], hijo_estado[i]\n",
        "                hijo_nodo = NodoBI(hijo_estado)\n",
        "                hijos.append(hijo_nodo)\n",
        "\n",
        "        nodo_inicial.set_hijo(hijos)\n",
        "\n",
        "        for hijo_node in nodo_inicial.get_hijo():\n",
        "            if not hijo_node.get_estado() in visitados and heuristica(nodo_inicial, hijo_node):\n",
        "                # Llamada recursiva\n",
        "                solu = busqueda_heuristica(hijo_node, solucion, visitados)\n",
        "                if solu is not None:\n",
        "                    return solu\n",
        "        return None\n",
        "\n",
        "def heuristica(padre_node, hijo_node):\n",
        "    padre_quality = 0\n",
        "    hijo_quality = 0\n",
        "    padre_data = padre_node.get_estado()\n",
        "    hijo_data = hijo_node.get_estado()\n",
        "\n",
        "    for n in range(1, len(padre_data)):\n",
        "        if padre_data[n] > padre_data[n - 1]:\n",
        "            padre_quality = padre_quality + 1\n",
        "        if hijo_data[n] > hijo_data[n - 1]:\n",
        "            hijo_quality = hijo_quality + 1\n",
        "\n",
        "    if hijo_quality >= padre_quality:\n",
        "        return True\n",
        "    else:\n",
        "        return False"
      ],
      "metadata": {
        "id": "YauryvSW89QI"
      },
      "execution_count": null,
      "outputs": []
    },
    {
      "cell_type": "code",
      "source": [
        "if __name__ == \"__main__\":\n",
        "    estado_inicial = [1, 2, 3, 4, 5, 6]  # Lista con N elementos\n",
        "    estado_solucion = [2, 5, 4, 3, 1, 6]  # Lista con N elementos\n",
        "\n",
        "    visitados_nodes = []\n",
        "    nodo_inicial = NodoBI(estado_inicial)\n",
        "    nodo_solucion = busqueda_heuristica(nodo_inicial, estado_solucion, visitados_nodes)\n",
        "\n",
        "    print(nodo_solucion)\n",
        "\n",
        "    resultado = []\n",
        "\n",
        "    node = nodo_solucion\n",
        "    while node.get_padre() is not None:\n",
        "        resultado.append(node.get_estado())\n",
        "        node = node.get_padre()\n",
        "    resultado.append(estado_inicial)\n",
        "    resultado.reverse()\n",
        "    print(resultado)"
      ],
      "metadata": {
        "id": "jMiDt3zU9Ejo"
      },
      "execution_count": null,
      "outputs": []
    }
  ]
}