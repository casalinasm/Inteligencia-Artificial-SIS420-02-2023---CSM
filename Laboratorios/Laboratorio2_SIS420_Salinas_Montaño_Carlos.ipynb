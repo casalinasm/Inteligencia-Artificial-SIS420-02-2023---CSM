{
  "nbformat": 4,
  "nbformat_minor": 0,
  "metadata": {
    "colab": {
      "provenance": []
    },
    "kernelspec": {
      "name": "python3",
      "display_name": "Python 3"
    },
    "language_info": {
      "name": "python"
    }
  },
  "cells": [
    {
      "cell_type": "markdown",
      "source": [
        "El dataset que se me asigno se trata de un dataset que contiene la informacion de los precios de los videojuegos del año 2022. Se encuentran datos como a que compañia pertenece el juego, en que tienda se lo esta vendiendo, a que consolas esta dirigido, etc.\n",
        "\n",
        "Nombre: Salinas Montaño Carlos"
      ],
      "metadata": {
        "id": "UXA-INxfGEYU"
      }
    },
    {
      "cell_type": "code",
      "execution_count": 9,
      "metadata": {
        "id": "qUxgZvq33-ID"
      },
      "outputs": [],
      "source": [
        "# utilizado para manejos de directorios y rutas\n",
        "import os\n",
        "\n",
        "# Computacion vectorial y cientifica para python\n",
        "import numpy as np\n",
        "\n",
        "# Librerias para graficación (trazado de gráficos)\n",
        "from matplotlib import pyplot\n",
        "from mpl_toolkits.mplot3d import Axes3D  # Necesario para graficar superficies 3D\n",
        "\n",
        "# llama a matplotlib a embeber graficas dentro de los cuadernillos\n",
        "%matplotlib inline"
      ]
    },
    {
      "cell_type": "code",
      "source": [
        "import pandas as pd\n",
        "from sklearn.preprocessing import LabelEncoder\n",
        "from datetime import datetime"
      ],
      "metadata": {
        "id": "3zeLCpwjiQCT"
      },
      "execution_count": 10,
      "outputs": []
    },
    {
      "cell_type": "code",
      "source": [
        "#Carga de dataset\n",
        "data = pd.read_csv('/content/videgames.csv')"
      ],
      "metadata": {
        "id": "V0ZXOA-6iUmV"
      },
      "execution_count": 3,
      "outputs": []
    },
    {
      "cell_type": "code",
      "source": [
        "print(data)"
      ],
      "metadata": {
        "colab": {
          "base_uri": "https://localhost:8080/"
        },
        "id": "h325dVhXicrs",
        "outputId": "45aeb4fe-7fc0-4ace-feac-71793348bde3"
      },
      "execution_count": 4,
      "outputs": [
        {
          "output_type": "stream",
          "name": "stdout",
          "text": [
            "      Unnamed: 0      Origen      Tienda Fabricante Consola       Género  \\\n",
            "0              0  Mediamarkt  Mediamarkt     Capcom     PS5       Acción   \n",
            "1              1  Mediamarkt  Mediamarkt       Sony     PS5  Plataformas   \n",
            "2              2  Mediamarkt  Mediamarkt    Ubisoft     PS5       Acción   \n",
            "3              3  Mediamarkt  Mediamarkt    Ubisoft     PS5       Acción   \n",
            "4              4  Mediamarkt  Mediamarkt        NaN     PS5       Terror   \n",
            "...          ...         ...         ...        ...     ...          ...   \n",
            "3581        3581     CD Keys    Nintendo     Capcom     NaN          NaN   \n",
            "3582        3582     CD Keys    Nintendo   Nintendo     NaN          NaN   \n",
            "3583        3583     CD Keys    Nintendo   Nintendo     NaN          NaN   \n",
            "3584        3584     CD Keys    Nintendo   Nintendo     NaN          NaN   \n",
            "3585        3585     CD Keys    Nintendo   Nintendo     NaN          NaN   \n",
            "\n",
            "                                                 Título Precio Moneda  \\\n",
            "0                Resident Evil VIII: Village Lenticular  42.99    EUR   \n",
            "1                              Sackboy: A Big Adventure  59.99    EUR   \n",
            "2                        Tom Clancy's Rainbow Six Siege   9.99    EUR   \n",
            "3     Assassin's Creed Valhalla: El Amanecer del Rag...  34.99    EUR   \n",
            "4                                                 Yuoni  29.99    EUR   \n",
            "...                                                 ...    ...    ...   \n",
            "3581  Monster Hunter 3 Ultimate 3DS - Game Code (EU ...  39.89    EUR   \n",
            "3582  LEGO City Undercover: The Chase Begins 3DS - G...  31.49    EUR   \n",
            "3583      Pokémon Art Academy 3DS - Game Code (EU & UK)  18.09    EUR   \n",
            "3584  Pokemon Mystery Dungeon: Gates to Infinity 3DS...  39.89    EUR   \n",
            "3585  Donkey Kong Country: Tropical Freeze Wii U - G...  20.59    EUR   \n",
            "\n",
            "     Disponibilidad  \n",
            "0              True  \n",
            "1              True  \n",
            "2              True  \n",
            "3              True  \n",
            "4              True  \n",
            "...             ...  \n",
            "3581             no  \n",
            "3582             no  \n",
            "3583             no  \n",
            "3584             no  \n",
            "3585             no  \n",
            "\n",
            "[3586 rows x 10 columns]\n"
          ]
        }
      ]
    },
    {
      "cell_type": "code",
      "source": [
        "data.info()"
      ],
      "metadata": {
        "colab": {
          "base_uri": "https://localhost:8080/"
        },
        "id": "ZoYIJwRyifh-",
        "outputId": "0d1283ed-e15a-4fcc-efd4-6170d3656e4b"
      },
      "execution_count": 5,
      "outputs": [
        {
          "output_type": "stream",
          "name": "stdout",
          "text": [
            "<class 'pandas.core.frame.DataFrame'>\n",
            "RangeIndex: 3586 entries, 0 to 3585\n",
            "Data columns (total 10 columns):\n",
            " #   Column          Non-Null Count  Dtype \n",
            "---  ------          --------------  ----- \n",
            " 0   Unnamed: 0      3586 non-null   int64 \n",
            " 1   Origen          3586 non-null   object\n",
            " 2   Tienda          3586 non-null   object\n",
            " 3   Fabricante      3313 non-null   object\n",
            " 4   Consola         1097 non-null   object\n",
            " 5   Género          1060 non-null   object\n",
            " 6   Título          3565 non-null   object\n",
            " 7   Precio          3586 non-null   object\n",
            " 8   Moneda          3586 non-null   object\n",
            " 9   Disponibilidad  3586 non-null   object\n",
            "dtypes: int64(1), object(9)\n",
            "memory usage: 280.3+ KB\n"
          ]
        }
      ]
    },
    {
      "cell_type": "code",
      "source": [
        "\n",
        "# Supongamos que 'data' es tu DataFrame\n",
        "columna_categorica = 'Precio'\n",
        "columna_numerica = 'Price'\n",
        "\n",
        "# Crea una nueva columna numérica y copia los valores de la columna categórica\n",
        "data[columna_numerica] = pd.to_numeric(data[columna_categorica], errors='coerce')\n",
        "\n",
        "# Elimina la columna categórica original\n",
        "data.drop(columna_categorica, axis=1, inplace=True)"
      ],
      "metadata": {
        "id": "iFCu2N4YuhfQ"
      },
      "execution_count": 6,
      "outputs": []
    },
    {
      "cell_type": "code",
      "source": [
        "data.info()"
      ],
      "metadata": {
        "colab": {
          "base_uri": "https://localhost:8080/"
        },
        "id": "VpbiDOZmjHzw",
        "outputId": "d892f4eb-f084-4691-f9c2-a4227d853a4c"
      },
      "execution_count": 7,
      "outputs": [
        {
          "output_type": "stream",
          "name": "stdout",
          "text": [
            "<class 'pandas.core.frame.DataFrame'>\n",
            "RangeIndex: 3586 entries, 0 to 3585\n",
            "Data columns (total 10 columns):\n",
            " #   Column          Non-Null Count  Dtype  \n",
            "---  ------          --------------  -----  \n",
            " 0   Unnamed: 0      3586 non-null   int64  \n",
            " 1   Origen          3586 non-null   object \n",
            " 2   Tienda          3586 non-null   object \n",
            " 3   Fabricante      3313 non-null   object \n",
            " 4   Consola         1097 non-null   object \n",
            " 5   Género          1060 non-null   object \n",
            " 6   Título          3565 non-null   object \n",
            " 7   Moneda          3586 non-null   object \n",
            " 8   Disponibilidad  3586 non-null   object \n",
            " 9   Price           3442 non-null   float64\n",
            "dtypes: float64(1), int64(1), object(8)\n",
            "memory usage: 280.3+ KB\n"
          ]
        }
      ]
    },
    {
      "cell_type": "code",
      "source": [
        "print(data)"
      ],
      "metadata": {
        "colab": {
          "base_uri": "https://localhost:8080/"
        },
        "id": "q_5f1HzymIdL",
        "outputId": "a3e8bc9a-39e6-45d5-f287-30b6da3d1e73"
      },
      "execution_count": 8,
      "outputs": [
        {
          "output_type": "stream",
          "name": "stdout",
          "text": [
            "      Unnamed: 0      Origen      Tienda Fabricante Consola       Género  \\\n",
            "0              0  Mediamarkt  Mediamarkt     Capcom     PS5       Acción   \n",
            "1              1  Mediamarkt  Mediamarkt       Sony     PS5  Plataformas   \n",
            "2              2  Mediamarkt  Mediamarkt    Ubisoft     PS5       Acción   \n",
            "3              3  Mediamarkt  Mediamarkt    Ubisoft     PS5       Acción   \n",
            "4              4  Mediamarkt  Mediamarkt        NaN     PS5       Terror   \n",
            "...          ...         ...         ...        ...     ...          ...   \n",
            "3581        3581     CD Keys    Nintendo     Capcom     NaN          NaN   \n",
            "3582        3582     CD Keys    Nintendo   Nintendo     NaN          NaN   \n",
            "3583        3583     CD Keys    Nintendo   Nintendo     NaN          NaN   \n",
            "3584        3584     CD Keys    Nintendo   Nintendo     NaN          NaN   \n",
            "3585        3585     CD Keys    Nintendo   Nintendo     NaN          NaN   \n",
            "\n",
            "                                                 Título Moneda Disponibilidad  \\\n",
            "0                Resident Evil VIII: Village Lenticular    EUR           True   \n",
            "1                              Sackboy: A Big Adventure    EUR           True   \n",
            "2                        Tom Clancy's Rainbow Six Siege    EUR           True   \n",
            "3     Assassin's Creed Valhalla: El Amanecer del Rag...    EUR           True   \n",
            "4                                                 Yuoni    EUR           True   \n",
            "...                                                 ...    ...            ...   \n",
            "3581  Monster Hunter 3 Ultimate 3DS - Game Code (EU ...    EUR             no   \n",
            "3582  LEGO City Undercover: The Chase Begins 3DS - G...    EUR             no   \n",
            "3583      Pokémon Art Academy 3DS - Game Code (EU & UK)    EUR             no   \n",
            "3584  Pokemon Mystery Dungeon: Gates to Infinity 3DS...    EUR             no   \n",
            "3585  Donkey Kong Country: Tropical Freeze Wii U - G...    EUR             no   \n",
            "\n",
            "      Price  \n",
            "0     42.99  \n",
            "1     59.99  \n",
            "2      9.99  \n",
            "3     34.99  \n",
            "4     29.99  \n",
            "...     ...  \n",
            "3581  39.89  \n",
            "3582  31.49  \n",
            "3583  18.09  \n",
            "3584  39.89  \n",
            "3585  20.59  \n",
            "\n",
            "[3586 rows x 10 columns]\n"
          ]
        }
      ]
    },
    {
      "cell_type": "code",
      "source": [
        "#Convertir variables categoricas a variables numericas\n",
        "columnas_categoricas = data.select_dtypes(include=['object']).columns\n",
        "#Convertir variables fechas a variables numericas (si es necesario)\n",
        "columnas_fechas = data.select_dtypes(include=['datetime64']).columns"
      ],
      "metadata": {
        "id": "sFmWfM7Mjn9Z"
      },
      "execution_count": 11,
      "outputs": []
    },
    {
      "cell_type": "code",
      "source": [
        "#Procesamiento de frases o palabras\n",
        "for columna in columnas_categoricas:\n",
        "  le = LabelEncoder()\n",
        "  data[columna] = le.fit_transform(data[columna])"
      ],
      "metadata": {
        "id": "GcxRaOoqkOyD"
      },
      "execution_count": 12,
      "outputs": []
    },
    {
      "cell_type": "code",
      "source": [
        "#Fechas a numeros\n",
        "for columna in columnas_fechas:\n",
        "  data[columna] = pd.to_numeric(data[columna].map(datetime.timestamp))"
      ],
      "metadata": {
        "id": "hVuep7WXkQvA"
      },
      "execution_count": 13,
      "outputs": []
    },
    {
      "cell_type": "code",
      "source": [
        "data.info()"
      ],
      "metadata": {
        "colab": {
          "base_uri": "https://localhost:8080/"
        },
        "id": "Uv51KOsZ-GAO",
        "outputId": "310709a5-37a0-4f5e-f5c7-bd62716c3fed"
      },
      "execution_count": 14,
      "outputs": [
        {
          "output_type": "stream",
          "name": "stdout",
          "text": [
            "<class 'pandas.core.frame.DataFrame'>\n",
            "RangeIndex: 3586 entries, 0 to 3585\n",
            "Data columns (total 10 columns):\n",
            " #   Column          Non-Null Count  Dtype  \n",
            "---  ------          --------------  -----  \n",
            " 0   Unnamed: 0      3586 non-null   int64  \n",
            " 1   Origen          3586 non-null   int64  \n",
            " 2   Tienda          3586 non-null   int64  \n",
            " 3   Fabricante      3586 non-null   int64  \n",
            " 4   Consola         3586 non-null   int64  \n",
            " 5   Género          3586 non-null   int64  \n",
            " 6   Título          3586 non-null   int64  \n",
            " 7   Moneda          3586 non-null   int64  \n",
            " 8   Disponibilidad  3586 non-null   int64  \n",
            " 9   Price           3442 non-null   float64\n",
            "dtypes: float64(1), int64(9)\n",
            "memory usage: 280.3 KB\n"
          ]
        }
      ]
    },
    {
      "cell_type": "code",
      "source": [
        "#resultado\n",
        "print(data)"
      ],
      "metadata": {
        "colab": {
          "base_uri": "https://localhost:8080/"
        },
        "id": "vHzN_Uj0kS96",
        "outputId": "96b548d2-5f8d-4410-fa0a-0f39e2701e99"
      },
      "execution_count": 15,
      "outputs": [
        {
          "output_type": "stream",
          "name": "stdout",
          "text": [
            "      Unnamed: 0  Origen  Tienda  Fabricante  Consola  Género  Título  Moneda  \\\n",
            "0              0       1       8          61        5       0    1629       1   \n",
            "1              1       1       8         259        5      23    1677       1   \n",
            "2              2       1       8         302        5       0    2001       1   \n",
            "3              3       1       8         302        5       0     136       1   \n",
            "4              4       1       8         329        5      29    2164       1   \n",
            "...          ...     ...     ...         ...      ...     ...     ...     ...   \n",
            "3581        3581       0      10          61       10      31    1290       1   \n",
            "3582        3582       0      10         195       10      31    1087       1   \n",
            "3583        3583       0      10         195       10      31    1554       1   \n",
            "3584        3584       0      10         195       10      31    1533       1   \n",
            "3585        3585       0      10         195       10      31     535       1   \n",
            "\n",
            "      Disponibilidad  Price  \n",
            "0                  0  42.99  \n",
            "1                  0  59.99  \n",
            "2                  0   9.99  \n",
            "3                  0  34.99  \n",
            "4                  0  29.99  \n",
            "...              ...    ...  \n",
            "3581               1  39.89  \n",
            "3582               1  31.49  \n",
            "3583               1  18.09  \n",
            "3584               1  39.89  \n",
            "3585               1  20.59  \n",
            "\n",
            "[3586 rows x 10 columns]\n"
          ]
        }
      ]
    },
    {
      "cell_type": "code",
      "source": [
        "data.info()"
      ],
      "metadata": {
        "colab": {
          "base_uri": "https://localhost:8080/"
        },
        "id": "tJ9GFsACksGy",
        "outputId": "7db86aa4-8936-4986-b329-cea9b150481d"
      },
      "execution_count": 16,
      "outputs": [
        {
          "output_type": "stream",
          "name": "stdout",
          "text": [
            "<class 'pandas.core.frame.DataFrame'>\n",
            "RangeIndex: 3586 entries, 0 to 3585\n",
            "Data columns (total 10 columns):\n",
            " #   Column          Non-Null Count  Dtype  \n",
            "---  ------          --------------  -----  \n",
            " 0   Unnamed: 0      3586 non-null   int64  \n",
            " 1   Origen          3586 non-null   int64  \n",
            " 2   Tienda          3586 non-null   int64  \n",
            " 3   Fabricante      3586 non-null   int64  \n",
            " 4   Consola         3586 non-null   int64  \n",
            " 5   Género          3586 non-null   int64  \n",
            " 6   Título          3586 non-null   int64  \n",
            " 7   Moneda          3586 non-null   int64  \n",
            " 8   Disponibilidad  3586 non-null   int64  \n",
            " 9   Price           3442 non-null   float64\n",
            "dtypes: float64(1), int64(9)\n",
            "memory usage: 280.3 KB\n"
          ]
        }
      ]
    },
    {
      "cell_type": "code",
      "source": [
        "#llenar datos vacios\n",
        "columnas_especificas = ['Price']\n",
        "media_columnas = data[columnas_especificas].mean()\n",
        "data[columnas_especificas] = data[columnas_especificas].fillna(media_columnas)"
      ],
      "metadata": {
        "id": "aL01HjE1tMNP"
      },
      "execution_count": 17,
      "outputs": []
    },
    {
      "cell_type": "code",
      "source": [
        "data.info()"
      ],
      "metadata": {
        "colab": {
          "base_uri": "https://localhost:8080/"
        },
        "id": "IZheY0q7lvQg",
        "outputId": "e372ec8b-5fa6-4c95-b4e2-954708df63b9"
      },
      "execution_count": 18,
      "outputs": [
        {
          "output_type": "stream",
          "name": "stdout",
          "text": [
            "<class 'pandas.core.frame.DataFrame'>\n",
            "RangeIndex: 3586 entries, 0 to 3585\n",
            "Data columns (total 10 columns):\n",
            " #   Column          Non-Null Count  Dtype  \n",
            "---  ------          --------------  -----  \n",
            " 0   Unnamed: 0      3586 non-null   int64  \n",
            " 1   Origen          3586 non-null   int64  \n",
            " 2   Tienda          3586 non-null   int64  \n",
            " 3   Fabricante      3586 non-null   int64  \n",
            " 4   Consola         3586 non-null   int64  \n",
            " 5   Género          3586 non-null   int64  \n",
            " 6   Título          3586 non-null   int64  \n",
            " 7   Moneda          3586 non-null   int64  \n",
            " 8   Disponibilidad  3586 non-null   int64  \n",
            " 9   Price           3586 non-null   float64\n",
            "dtypes: float64(1), int64(9)\n",
            "memory usage: 280.3 KB\n"
          ]
        }
      ]
    },
    {
      "cell_type": "code",
      "source": [
        "# Lectura de Datos\n",
        "X = data.iloc[:, :9]\n",
        "y = data.iloc[:, 9]\n",
        "m = y.size"
      ],
      "metadata": {
        "id": "YuuRUXgCwvZ_"
      },
      "execution_count": 19,
      "outputs": []
    },
    {
      "cell_type": "code",
      "source": [
        "print(X)\n",
        "print('*'*25)\n",
        "print(y)"
      ],
      "metadata": {
        "colab": {
          "base_uri": "https://localhost:8080/"
        },
        "id": "x1NBC6A6xFoC",
        "outputId": "63597179-2aed-42c9-b961-d6618654d451"
      },
      "execution_count": 20,
      "outputs": [
        {
          "output_type": "stream",
          "name": "stdout",
          "text": [
            "      Unnamed: 0  Origen  Tienda  Fabricante  Consola  Género  Título  Moneda  \\\n",
            "0              0       1       8          61        5       0    1629       1   \n",
            "1              1       1       8         259        5      23    1677       1   \n",
            "2              2       1       8         302        5       0    2001       1   \n",
            "3              3       1       8         302        5       0     136       1   \n",
            "4              4       1       8         329        5      29    2164       1   \n",
            "...          ...     ...     ...         ...      ...     ...     ...     ...   \n",
            "3581        3581       0      10          61       10      31    1290       1   \n",
            "3582        3582       0      10         195       10      31    1087       1   \n",
            "3583        3583       0      10         195       10      31    1554       1   \n",
            "3584        3584       0      10         195       10      31    1533       1   \n",
            "3585        3585       0      10         195       10      31     535       1   \n",
            "\n",
            "      Disponibilidad  \n",
            "0                  0  \n",
            "1                  0  \n",
            "2                  0  \n",
            "3                  0  \n",
            "4                  0  \n",
            "...              ...  \n",
            "3581               1  \n",
            "3582               1  \n",
            "3583               1  \n",
            "3584               1  \n",
            "3585               1  \n",
            "\n",
            "[3586 rows x 9 columns]\n",
            "*************************\n",
            "0       42.99\n",
            "1       59.99\n",
            "2        9.99\n",
            "3       34.99\n",
            "4       29.99\n",
            "        ...  \n",
            "3581    39.89\n",
            "3582    31.49\n",
            "3583    18.09\n",
            "3584    39.89\n",
            "3585    20.59\n",
            "Name: Price, Length: 3586, dtype: float64\n"
          ]
        }
      ]
    },
    {
      "cell_type": "code",
      "source": [
        "def  featureNormalize(X):\n",
        "    X_norm = X.copy()\n",
        "    mu = np.zeros(X.shape[1])\n",
        "    sigma = np.zeros(X.shape[1])\n",
        "\n",
        "    mu = np.mean(X, axis = 0)\n",
        "    sigma = np.std(X, axis = 0)\n",
        "    X_norm = (X - mu) / sigma\n",
        "\n",
        "    return X_norm, mu, sigma"
      ],
      "metadata": {
        "id": "DrrFytt2gkI8"
      },
      "execution_count": 21,
      "outputs": []
    },
    {
      "cell_type": "code",
      "source": [
        "# llama featureNormalize con los datos cargados\n",
        "X_norm, mu, sigma = featureNormalize(X)\n",
        "\n",
        "print(X)\n",
        "print('Media calculada:', mu)\n",
        "print('Desviación estandar calculada:', sigma)\n",
        "print(X_norm)"
      ],
      "metadata": {
        "colab": {
          "base_uri": "https://localhost:8080/"
        },
        "id": "MhHhItqc4YLy",
        "outputId": "9c7ff926-7502-40a2-ddfe-dff1c3b3520a"
      },
      "execution_count": 22,
      "outputs": [
        {
          "output_type": "stream",
          "name": "stdout",
          "text": [
            "      Unnamed: 0  Origen  Tienda  Fabricante  Consola  Género  Título  Moneda  \\\n",
            "0              0       1       8          61        5       0    1629       1   \n",
            "1              1       1       8         259        5      23    1677       1   \n",
            "2              2       1       8         302        5       0    2001       1   \n",
            "3              3       1       8         302        5       0     136       1   \n",
            "4              4       1       8         329        5      29    2164       1   \n",
            "...          ...     ...     ...         ...      ...     ...     ...     ...   \n",
            "3581        3581       0      10          61       10      31    1290       1   \n",
            "3582        3582       0      10         195       10      31    1087       1   \n",
            "3583        3583       0      10         195       10      31    1554       1   \n",
            "3584        3584       0      10         195       10      31    1533       1   \n",
            "3585        3585       0      10         195       10      31     535       1   \n",
            "\n",
            "      Disponibilidad  \n",
            "0                  0  \n",
            "1                  0  \n",
            "2                  0  \n",
            "3                  0  \n",
            "4                  0  \n",
            "...              ...  \n",
            "3581               1  \n",
            "3582               1  \n",
            "3583               1  \n",
            "3584               1  \n",
            "3585               1  \n",
            "\n",
            "[3586 rows x 9 columns]\n",
            "Media calculada: Unnamed: 0        1792.500000\n",
            "Origen               0.305912\n",
            "Tienda              12.066648\n",
            "Fabricante         185.049916\n",
            "Consola              8.072504\n",
            "Género              24.238427\n",
            "Título            1078.986615\n",
            "Moneda               1.233687\n",
            "Disponibilidad       1.196040\n",
            "dtype: float64\n",
            "Desviación estandar calculada: Unnamed: 0        1035.188992\n",
            "Origen               0.460793\n",
            "Tienda               4.037301\n",
            "Fabricante         101.308027\n",
            "Consola              3.337961\n",
            "Género              11.595203\n",
            "Título             607.393332\n",
            "Moneda               0.570264\n",
            "Disponibilidad       0.877173\n",
            "dtype: float64\n",
            "      Unnamed: 0    Origen    Tienda  Fabricante   Consola    Género  \\\n",
            "0      -1.731568  1.506292 -1.007269   -1.224483 -0.920473 -2.090384   \n",
            "1      -1.730602  1.506292 -1.007269    0.729953 -0.920473 -0.106805   \n",
            "2      -1.729636  1.506292 -1.007269    1.154401 -0.920473 -2.090384   \n",
            "3      -1.728670  1.506292 -1.007269    1.154401 -0.920473 -2.090384   \n",
            "4      -1.727704  1.506292 -1.007269    1.420915 -0.920473  0.410650   \n",
            "...          ...       ...       ...         ...       ...       ...   \n",
            "3581    1.727704 -0.663882 -0.511889   -1.224483  0.577447  0.583135   \n",
            "3582    1.728670 -0.663882 -0.511889    0.098216  0.577447  0.583135   \n",
            "3583    1.729636 -0.663882 -0.511889    0.098216  0.577447  0.583135   \n",
            "3584    1.730602 -0.663882 -0.511889    0.098216  0.577447  0.583135   \n",
            "3585    1.731568 -0.663882 -0.511889    0.098216  0.577447  0.583135   \n",
            "\n",
            "        Título    Moneda  Disponibilidad  \n",
            "0     0.905531 -0.409787       -1.363517  \n",
            "1     0.984557 -0.409787       -1.363517  \n",
            "2     1.517984 -0.409787       -1.363517  \n",
            "3    -1.552514 -0.409787       -1.363517  \n",
            "4     1.786344 -0.409787       -1.363517  \n",
            "...        ...       ...             ...  \n",
            "3581  0.347408 -0.409787       -0.223491  \n",
            "3582  0.013193 -0.409787       -0.223491  \n",
            "3583  0.782052 -0.409787       -0.223491  \n",
            "3584  0.747478 -0.409787       -0.223491  \n",
            "3585 -0.895608 -0.409787       -0.223491  \n",
            "\n",
            "[3586 rows x 9 columns]\n"
          ]
        }
      ]
    },
    {
      "cell_type": "code",
      "source": [
        "# Añade o concatenamos el termino de interseccion a X\n",
        "# (Columna de unos para X0)\n",
        "X = np.concatenate([np.ones((m, 1)), X_norm], axis=1)"
      ],
      "metadata": {
        "id": "EB4cCmdm4bxJ"
      },
      "execution_count": 23,
      "outputs": []
    },
    {
      "cell_type": "code",
      "source": [
        "print(X)"
      ],
      "metadata": {
        "colab": {
          "base_uri": "https://localhost:8080/"
        },
        "id": "jxdWrQDC4fcD",
        "outputId": "63430fd9-b955-4ca2-8a77-3159698a0866"
      },
      "execution_count": 24,
      "outputs": [
        {
          "output_type": "stream",
          "name": "stdout",
          "text": [
            "[[ 1.         -1.73156787  1.50629188 ...  0.90553083 -0.40978666\n",
            "  -1.3635171 ]\n",
            " [ 1.         -1.73060186  1.50629188 ...  0.98455705 -0.40978666\n",
            "  -1.3635171 ]\n",
            " [ 1.         -1.72963586  1.50629188 ...  1.51798404 -0.40978666\n",
            "  -1.3635171 ]\n",
            " ...\n",
            " [ 1.          1.72963586 -0.66388196 ...  0.78205235 -0.40978666\n",
            "  -0.22349091]\n",
            " [ 1.          1.73060186 -0.66388196 ...  0.74747838 -0.40978666\n",
            "  -0.22349091]\n",
            " [ 1.          1.73156787 -0.66388196 ... -0.89560847 -0.40978666\n",
            "  -0.22349091]]\n"
          ]
        }
      ]
    },
    {
      "cell_type": "code",
      "source": [
        "def computeCostMulti(X, y, theta):\n",
        "    # Inicializa algunos valores utiles\n",
        "    m = y.shape[0] # numero de ejemplos de entrenamiento\n",
        "\n",
        "    J = 0\n",
        "\n",
        "    h = np.dot(X, theta)\n",
        "\n",
        "    J = (1/(2 * m)) * np.sum(np.square(np.dot(X, theta) - y))\n",
        "\n",
        "    return J\n"
      ],
      "metadata": {
        "id": "is_NER384kX5"
      },
      "execution_count": 25,
      "outputs": []
    },
    {
      "cell_type": "code",
      "source": [
        "def gradientDescentMulti(X, y, theta, alpha, num_iters):\n",
        "\n",
        "    # Inicializa algunos valores\n",
        "    m = y.shape[0] # numero de ejemplos de entrenamiento\n",
        "\n",
        "    # realiza una copia de theta, el cual será acutalizada por el descenso por el gradiente\n",
        "    theta = theta.copy()\n",
        "\n",
        "    J_history = []\n",
        "\n",
        "    for i in range(num_iters):\n",
        "        theta = theta - (alpha / m) * (np.dot(X, theta) - y).dot(X)\n",
        "        J_history.append(computeCostMulti(X, y, theta))\n",
        "\n",
        "    return theta, J_history"
      ],
      "metadata": {
        "id": "NTic99Il4k9H"
      },
      "execution_count": 26,
      "outputs": []
    },
    {
      "cell_type": "code",
      "source": [
        "# Elegir algun valor para alpha (probar varias alternativas)\n",
        "alpha = 0.001\n",
        "num_iters = 5000\n",
        "\n",
        "# inicializa theta y ejecuta el descenso por el gradiente\n",
        "theta = np.zeros(10)\n",
        "theta, J_history = gradientDescentMulti(X, y, theta, alpha, num_iters)\n",
        "\n",
        "# Grafica la convergencia del costo\n",
        "pyplot.plot(np.arange(len(J_history)), J_history, lw=2)\n",
        "pyplot.xlabel('Numero de iteraciones')\n",
        "pyplot.ylabel('Costo J')\n",
        "\n",
        "# Muestra los resultados del descenso por el gradiente\n",
        "print('theta calculado por el descenso por el gradiente: {:s}'.format(str(theta)))\n",
        "\n",
        "# Estimar el precio para un telefono celular con sus distintas caracteristicas\n",
        "X_array = [1, 1, 1, 8, 64, 5, 23, 1680, 1, 1]\n",
        "X_array[1:10] = (X_array[1:10] - mu) / sigma\n",
        "price = np.dot(X_array, theta)   # Se debe cambiar esto\n",
        "\n",
        "print('El valor predecido es (usando el descenso por el gradiente): {:.4f}'.format(price))"
      ],
      "metadata": {
        "colab": {
          "base_uri": "https://localhost:8080/",
          "height": 503
        },
        "id": "2sc2AmKF4qJQ",
        "outputId": "d8a0a84a-7254-4ab2-9526-4eee5a25bf1f"
      },
      "execution_count": 27,
      "outputs": [
        {
          "output_type": "stream",
          "name": "stdout",
          "text": [
            "theta calculado por el descenso por el gradiente: [75.25188783 25.8577751  10.73192108 -6.47831866 -4.43000252 -4.51502765\n",
            " -9.22874303 18.21118798 56.55925282 20.12567054]\n",
            "El valor predecido es (usando el descenso por el gradiente): 53.9729\n"
          ]
        },
        {
          "output_type": "display_data",
          "data": {
            "text/plain": [
              "<Figure size 640x480 with 1 Axes>"
            ],
            "image/png": "[encoded data removed]"
          },
          "metadata": {}
        }
      ]
    },
    {
      "cell_type": "code",
      "source": [
        "X_array = [1, 1, 1, 8, 64, 5, 23, 1680, 1, 1]\n",
        "X_array[1:8] = (X_array[1:13] - mu) / sigma"
      ],
      "metadata": {
        "id": "pHpGapUtf4QP"
      },
      "execution_count": 28,
      "outputs": []
    },
    {
      "cell_type": "code",
      "source": [
        "X_array[1:10]"
      ],
      "metadata": {
        "colab": {
          "base_uri": "https://localhost:8080/"
        },
        "id": "c_fhRmzof56K",
        "outputId": "a0ba2adc-eb3c-4883-8e19-60287a4feb6f"
      },
      "execution_count": 29,
      "outputs": [
        {
          "output_type": "execute_result",
          "data": {
            "text/plain": [
              "[-1.7306018641436278,\n",
              " 1.50629187853363,\n",
              " -1.0072690649642564,\n",
              " -1.1948699470062691,\n",
              " -0.9204734125298084,\n",
              " -0.10680513573847017,\n",
              " 0.989496185405654,\n",
              " -0.40978666330697,\n",
              " -0.22349091264891835]"
            ]
          },
          "metadata": {},
          "execution_count": 29
        }
      ]
    },
    {
      "cell_type": "code",
      "source": [
        "def normalEqn(X, y):\n",
        "\n",
        "    theta = np.zeros(X.shape[1])\n",
        "\n",
        "    theta = np.dot(np.dot(np.linalg.inv(np.dot(X.T,X)),X.T),y)\n",
        "\n",
        "    return theta"
      ],
      "metadata": {
        "id": "_MMoIdODf9FN"
      },
      "execution_count": 30,
      "outputs": []
    },
    {
      "cell_type": "code",
      "source": [
        "# Calcula los parametros con la ecuación de la normal\n",
        "theta = normalEqn(X, y);\n",
        "\n",
        "# Muestra los resultados optenidos a partir de la aplicación de la ecuación de la normal\n",
        "print('Theta calculado a partir de la ecuación de la normal: {:s}'.format(str(theta)));\n",
        "\n",
        "# Estimar el precio de un telefono celular con sus distintas caracteristicas mediante la media\n",
        "\n",
        "X_array = [1, 1, 1, 8, 64, 5, 23, 1680, 1, 1]\n",
        "price = np.dot(X_array, theta)\n",
        "\n",
        "print('Precio predecido para un videojuego con sus diferentes caracteristicas (usando la ecuación de la normal): ${:.0f}'.format(price))"
      ],
      "metadata": {
        "colab": {
          "base_uri": "https://localhost:8080/"
        },
        "id": "E7px4OMrf9un",
        "outputId": "6e1a3998-4a6b-4a3f-8098-b3d699b5536a"
      },
      "execution_count": 32,
      "outputs": [
        {
          "output_type": "stream",
          "name": "stdout",
          "text": [
            "Theta calculado a partir de la ecuación de la normal: [ 75.76108658  57.83362783 101.00223039   6.33893101  -9.75896165\n",
            "  11.27998185  -4.21968673  18.51561232  60.86872851  56.12675553]\n",
            "Precio predecido para un videojuego con sus diferentes caracteristicas (usando la ecuación de la normal): $30843\n"
          ]
        }
      ]
    }
  ]
}